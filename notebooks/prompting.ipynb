{
 "cells": [
  {
   "cell_type": "markdown",
   "id": "be535d54-53c9-46c8-961b-46d7b4e3ca27",
   "metadata": {},
   "source": [
    "## Imports and Config"
   ]
  },
  {
   "cell_type": "code",
   "execution_count": null,
   "id": "18af8cb1-117b-48b8-9e1d-50af28d85ba7",
   "metadata": {},
   "outputs": [],
   "source": [
    "import os\n",
    "import time\n",
    "from dotenv import load_dotenv\n",
    "\n",
    "import json\n",
    "import random\n",
    "from uuid import uuid4\n",
    "\n",
    "import requests\n",
    "from ast import literal_eval\n",
    "\n",
    "import google.generativeai as genai"
   ]
  },
  {
   "cell_type": "code",
   "execution_count": null,
   "id": "385d5a28-5067-4ad2-852e-dcdfe70f4246",
   "metadata": {},
   "outputs": [],
   "source": [
    "load_dotenv()\n",
    "\n",
    "GEMINI_API_KEY = os.environ['GEMINI_API_KEY']"
   ]
  },
  {
   "cell_type": "markdown",
   "id": "a6c62c3d-5b59-46b7-9280-f23edd94c5c5",
   "metadata": {},
   "source": [
    "## Trending Topics"
   ]
  },
  {
   "cell_type": "code",
   "execution_count": null,
   "id": "c7612e77-85cb-4f82-a850-299b40800f07",
   "metadata": {
    "scrolled": true
   },
   "outputs": [],
   "source": [
    "url = 'https://trends.google.com/trends/api/dailytrends'\n",
    "params = {'hl': 'en-US', 'tz': 0, 'geo': 'US'}\n",
    "\n",
    "response = requests.get(url, params=params)\n",
    "json_data = literal_eval(response.text[5:])\n",
    "searches = json_data['default']['trendingSearchesDays'][0]['trendingSearches']\n",
    "\n",
    "out = {}\n",
    "for s in searches:\n",
    "    key = s['title']['query']\n",
    "    out[key] = {'traffic': s['formattedTraffic']}\n",
    "    out[key]['articles'] = [{'title': x['title'], 'time_ago': x['timeAgo'], 'snippet': x['snippet']} for x in s['articles']]\n",
    "    out[key]['related_queries'] = [x['query'] for x in s['relatedQueries']]\n",
    "out"
   ]
  },
  {
   "cell_type": "code",
   "execution_count": null,
   "id": "6b8fa03e-6dec-41c0-a1f6-67e3049ddace",
   "metadata": {},
   "outputs": [],
   "source": [
    "ix = random.randint(0, len(out))\n",
    "topic = list(out.keys())[ix]\n",
    "topic"
   ]
  },
  {
   "cell_type": "markdown",
   "id": "83ca63aa-233d-4c88-8eed-ed27195296f2",
   "metadata": {},
   "source": [
    "## Text Prompt"
   ]
  },
  {
   "cell_type": "code",
   "execution_count": null,
   "id": "ef930ab5-6ed8-4598-b311-fb7de2297c7e",
   "metadata": {},
   "outputs": [],
   "source": [
    "prompt = \"\"\"\n",
    "You are a social media marketing expert working for a global journalistic firm, tasked with increasing engagement and viewership on Instagram, YouTube, and TikTok. Your goal is to create visually compelling, shareable content, including images, memes, and short videos.\n",
    "\n",
    "Based on the provided trending topic \"{topic}\" and region \"{country}\", generate creative content ideas for social media posts that can go viral. Each idea should be relevant to the local culture and trends in the specified region. Follow these guidelines when generating the ideas:\n",
    "\n",
    "1. **Categories**: The response should include three main categories:\n",
    "   - **Video**: A list of 5 video clips, each with a detailed description, text overlay, and voiceover.\n",
    "   - **Image**: A single image with a description, text overlay, and voiceover.\n",
    "   - **Meme**: A single meme with a description, text overlay, and voiceover.\n",
    "\n",
    "2. **Video Content Details**:\n",
    "   - Provide a list of 5 elements for the video category.\n",
    "   - Each element should include:\n",
    "     - **Description**: What the video clip should depict, including visual elements, animations, or transitions.\n",
    "     - **Text Overlay**: Text that appears on the screen to reinforce the message.\n",
    "     - **Voiceover**: A short voiceover script that aligns with the visuals and conveys the key message.\n",
    "\n",
    "3. **Image Content Details**:\n",
    "   - Describe the content of the image, including visual elements and any regional cultural references.\n",
    "   - Include a **Text Overlay** that adds context or reinforces the message.\n",
    "   - Provide a **Voiceover** script that complements the image content.\n",
    "\n",
    "4. **Meme Content Details**:\n",
    "   - Describe the meme’s visual elements and the humorous or viral aspect.\n",
    "   - Include a **Text Overlay** that adds to the meme's humor or message.\n",
    "   - Provide a **Voiceover** script that adds an extra layer of humor or commentary.\n",
    "\n",
    "5. **Song**: For all three categories (video, image, and meme), provide a **Song** section containing:\n",
    "   - **Name**: The name of a trending song relevant to the topic and region.\n",
    "   - **Artist**: The artist's name. Ensure the song is popular and culturally relevant.\n",
    "\n",
    "6. **Engagement Strategy**: Incorporate features to encourage engagement, such as hashtags, call-to-actions (e.g., 'tag a friend', 'share your opinion'), or challenges (e.g., a trending dance or meme challenge).\n",
    "\n",
    "7. **Format for Virality**: Ensure the content design maximizes shares and engagement, utilizing popular social media formats like challenges, polls, reactions, or humor. Avoid content that could evoke negative emotions or controversy.\n",
    "\n",
    "8. **JSON Formatting Instructions**:\n",
    "   - Ensure the output is formatted as valid JSON.\n",
    "   - **Escape any quotes within values** using a backslash (e.g., \\\\\"quote\\\\\").\n",
    "   - Any nested quotes inside strings should be properly escaped to ensure the JSON is valid and parsable.\n",
    "\n",
    "Return the response as a properly formatted JSON object containing:\n",
    "- **video**: A list of 5 dictionaries, where each dictionary contains keys:\n",
    "  - **description**: Description of the video clip.\n",
    "  - **text_overlay**: Text that appears on the video.\n",
    "  - **voiceover**: Voiceover script for the clip.\n",
    "- **image**: A dictionary containing keys:\n",
    "  - **description**: Description of the image.\n",
    "  - **text_overlay**: Text that appears on the image.\n",
    "  - **voiceover**: Voiceover script for the image.\n",
    "- **meme**: A dictionary containing keys:\n",
    "  - **description**: Description of the meme.\n",
    "  - **text_overlay**: Text that appears on the meme.\n",
    "  - **voiceover**: Voiceover script for the meme.\n",
    "- **song**: A dictionary containing:\n",
    "  - **name**: The song name.\n",
    "  - **artist**: The artist's name.\n",
    "Do not include any additional text.\n",
    "\"\"\"\n"
   ]
  },
  {
   "cell_type": "code",
   "execution_count": null,
   "id": "6f116fb8-8ba8-4f72-840a-cbf79c513f29",
   "metadata": {},
   "outputs": [],
   "source": [
    "genai.configure(api_key=GEMINI_API_KEY)\n",
    "model = genai.GenerativeModel('gemini-1.5-flash')"
   ]
  },
  {
   "cell_type": "code",
   "execution_count": null,
   "id": "9165bbc7-5120-4906-92e3-74f37fe1739d",
   "metadata": {},
   "outputs": [],
   "source": [
    "llm_prompt = prompt.format(topic=topic, country='worldwide')\n",
    "json_text = model.generate_content(llm_prompt).text.lstrip('```json').strip('```')\n",
    "response = literal_eval(json_text)"
   ]
  },
  {
   "cell_type": "code",
   "execution_count": null,
   "id": "4270b7e9-65bd-4d0c-952f-7dd734ce201f",
   "metadata": {
    "scrolled": true
   },
   "outputs": [],
   "source": [
    "response"
   ]
  },
  {
   "cell_type": "code",
   "execution_count": null,
   "id": "83a38349-65c7-42d1-914f-133b3e66934d",
   "metadata": {},
   "outputs": [],
   "source": [
    "video_details = response['video']\n",
    "video_images = [media['description'] for media in video_details]\n",
    "video_texts = [media['text_overlay'] for media in video_details]\n",
    "video_audios = [media['voiceover'] for media in video_details]"
   ]
  },
  {
   "cell_type": "markdown",
   "id": "78c189df-057d-4d6a-a664-bba6e985e079",
   "metadata": {},
   "source": [
    "## Image Generation"
   ]
  },
  {
   "cell_type": "code",
   "execution_count": null,
   "id": "9e0b352c-7e71-4e85-96f3-1ca0bd971e04",
   "metadata": {},
   "outputs": [],
   "source": [
    "POLLINATION_URI = 'https://pollinations.ai/p/{prompt}?width=1080&height=1920&seed=42&model=flux'"
   ]
  },
  {
   "cell_type": "code",
   "execution_count": null,
   "id": "8e402041-e98c-4e03-8089-c24237b7c483",
   "metadata": {},
   "outputs": [],
   "source": [
    "video_images"
   ]
  },
  {
   "cell_type": "code",
   "execution_count": null,
   "id": "9b6ca047-8835-4261-af90-6c874de94073",
   "metadata": {},
   "outputs": [],
   "source": [
    "img_ids = []\n",
    "for i, img in enumerate(video_images):\n",
    "    res_img = requests.get(POLLINATION_URI.format(prompt=img))\n",
    "    img_name = f'{i}_{uuid4()}'\n",
    "    img_ids.append(img_name)\n",
    "    print(img_name)\n",
    "    with open(f'{img_name}.jpg', 'wb') as file:\n",
    "        file.write(res_img.content)\n",
    "    time.sleep(2)"
   ]
  },
  {
   "cell_type": "markdown",
   "id": "c5d45894-cc86-4f12-842e-44e6ebe4aaa0",
   "metadata": {},
   "source": [
    "## Audio Generation"
   ]
  }
 ],
 "metadata": {
  "kernelspec": {
   "display_name": "shorts",
   "language": "python",
   "name": "shorts"
  },
  "language_info": {
   "codemirror_mode": {
    "name": "ipython",
    "version": 3
   },
   "file_extension": ".py",
   "mimetype": "text/x-python",
   "name": "python",
   "nbconvert_exporter": "python",
   "pygments_lexer": "ipython3",
   "version": "3.10.9"
  }
 },
 "nbformat": 4,
 "nbformat_minor": 5
}
