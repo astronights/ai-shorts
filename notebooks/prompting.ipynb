{
 "cells": [
  {
   "cell_type": "markdown",
   "id": "be535d54-53c9-46c8-961b-46d7b4e3ca27",
   "metadata": {},
   "source": [
    "## Imports and Config"
   ]
  },
  {
   "cell_type": "code",
   "execution_count": 1,
   "id": "18af8cb1-117b-48b8-9e1d-50af28d85ba7",
   "metadata": {},
   "outputs": [],
   "source": [
    "import os\n",
    "import time\n",
    "from dotenv import load_dotenv\n",
    "\n",
    "import json\n",
    "import random\n",
    "from uuid import uuid4\n",
    "\n",
    "import requests\n",
    "from ast import literal_eval\n",
    "\n",
    "import google.generativeai as genai\n",
    "from pytrends.request import TrendReq"
   ]
  },
  {
   "cell_type": "code",
   "execution_count": 101,
   "id": "385d5a28-5067-4ad2-852e-dcdfe70f4246",
   "metadata": {},
   "outputs": [],
   "source": [
    "load_dotenv()\n",
    "\n",
    "GEMINI_API_KEY = os.environ['GEMINI_API_KEY']\n",
    "TTS_API_KEY = os.environ['TTS_API_KEY']"
   ]
  },
  {
   "cell_type": "markdown",
   "id": "a6c62c3d-5b59-46b7-9280-f23edd94c5c5",
   "metadata": {},
   "source": [
    "## Trending Topics"
   ]
  },
  {
   "cell_type": "code",
   "execution_count": 5,
   "id": "d9d9ddb1-c79e-4c42-9a8b-958c1a4c26ea",
   "metadata": {},
   "outputs": [],
   "source": [
    "pytrends = TrendReq(hl='en-US', tz=360)"
   ]
  },
  {
   "cell_type": "code",
   "execution_count": 45,
   "id": "6b8fa03e-6dec-41c0-a1f6-67e3049ddace",
   "metadata": {},
   "outputs": [
    {
     "data": {
      "text/plain": [
       "'ASU football'"
      ]
     },
     "execution_count": 45,
     "metadata": {},
     "output_type": "execute_result"
    }
   ],
   "source": [
    "country = 'worldwide'\n",
    "result = pytrends.trending_searches()\n",
    "\n",
    "ix = random.randint(0, len(result))\n",
    "topic = result.loc[ix].values[0]\n",
    "topic"
   ]
  },
  {
   "cell_type": "markdown",
   "id": "83ca63aa-233d-4c88-8eed-ed27195296f2",
   "metadata": {},
   "source": [
    "## Text Prompt"
   ]
  },
  {
   "cell_type": "code",
   "execution_count": 85,
   "id": "ef930ab5-6ed8-4598-b311-fb7de2297c7e",
   "metadata": {},
   "outputs": [],
   "source": [
    "prompt = \"\"\"\n",
    "You are a social media marketing expert working for a global journalistic firm, tasked with increasing engagement and viewership on Instagram, YouTube, and TikTok. Your goal is to create visually compelling, shareable content, including images, memes, and short videos.\n",
    "\n",
    "Based on the provided trending topic \"{topic}\" and region \"{country}\", generate creative content ideas for social media posts that can go viral. Each idea should be relevant to the local culture and trends in the specified region. Follow these guidelines when generating the ideas:\n",
    "\n",
    "1. **Categories**: The response should include three main categories:\n",
    "   - **Video**: A list of 5 video clips, each with a detailed description, text overlay, and voiceover.\n",
    "   - **Image**: A single image with a description, text overlay, and voiceover.\n",
    "   - **Meme**: A single meme with a description, text overlay, and voiceover.\n",
    "\n",
    "2. **Video Content Details**:\n",
    "   - Provide a list of 5 elements for the video category.\n",
    "   - Each element should include:\n",
    "     - **Description**: What the video clip should depict, including visual elements, animations, or transitions.\n",
    "     - **Text Overlay**: Text that appears on the screen to reinforce the message.\n",
    "     - **Voiceover**: A short voiceover script that aligns with the visuals and conveys the key message.\n",
    "\n",
    "3. **Image Content Details**:\n",
    "   - Describe the content of the image, including visual elements and any regional cultural references.\n",
    "   - Include a **Text Overlay** that adds context or reinforces the message.\n",
    "   - Provide a **Voiceover** script that complements the image content.\n",
    "\n",
    "4. **Meme Content Details**:\n",
    "   - Describe the meme’s visual elements and the humorous or viral aspect.\n",
    "   - Include a **Text Overlay** that adds to the meme's humor or message.\n",
    "   - Provide a **Voiceover** script that adds an extra layer of humor or commentary.\n",
    "\n",
    "5. **Song**: For all three categories (video, image, and meme), provide a **Song** section containing:\n",
    "   - **Name**: The name of a trending song relevant to the topic and region.\n",
    "   - **Artist**: The artist's name. Ensure the song is popular and culturally relevant.\n",
    "\n",
    "6. **Engagement Strategy**: Incorporate features to encourage engagement, such as hashtags, call-to-actions (e.g., 'tag a friend', 'share your opinion'), or challenges (e.g., a trending dance or meme challenge).\n",
    "\n",
    "7. **Format for Virality**: Ensure the content design maximizes shares and engagement, utilizing popular social media formats like challenges, polls, reactions, or humor. Avoid content that could evoke negative emotions or controversy.\n",
    "\n",
    "8. **JSON Formatting Instructions**:\n",
    "   - Ensure the output is formatted as valid JSON.\n",
    "   - **Escape any quotes within values** using a backslash (e.g., \\\\\"quote\\\\\").\n",
    "   - Any nested quotes inside strings should be properly escaped to ensure the JSON is valid and parsable.\n",
    "\n",
    "Return the response as a properly formatted JSON object containing:\n",
    "- **video**: A list of 5 dictionaries, where each dictionary contains keys:\n",
    "  - **description**: Description of the video clip.\n",
    "  - **text_overlay**: Text that appears on the video.\n",
    "  - **voiceover**: Voiceover script for the clip.\n",
    "- **image**: A dictionary containing keys:\n",
    "  - **description**: Description of the image.\n",
    "  - **text_overlay**: Text that appears on the image.\n",
    "  - **voiceover**: Voiceover script for the image.\n",
    "- **meme**: A dictionary containing keys:\n",
    "  - **description**: Description of the meme.\n",
    "  - **text_overlay**: Text that appears on the meme.\n",
    "  - **voiceover**: Voiceover script for the meme.\n",
    "- **song**: A dictionary containing:\n",
    "  - **name**: The song name.\n",
    "  - **artist**: The artist's name.\n",
    "Do not include any additional text.\n",
    "\"\"\"\n"
   ]
  },
  {
   "cell_type": "code",
   "execution_count": 86,
   "id": "6f116fb8-8ba8-4f72-840a-cbf79c513f29",
   "metadata": {},
   "outputs": [],
   "source": [
    "genai.configure(api_key=GEMINI_API_KEY)\n",
    "model = genai.GenerativeModel('gemini-1.5-flash')"
   ]
  },
  {
   "cell_type": "code",
   "execution_count": 88,
   "id": "9165bbc7-5120-4906-92e3-74f37fe1739d",
   "metadata": {},
   "outputs": [],
   "source": [
    "llm_prompt = prompt.format(topic=topic, country=country)\n",
    "json_text = model.generate_content(llm_prompt).text.lstrip('```json').strip('```')\n",
    "response = literal_eval(json_text)"
   ]
  },
  {
   "cell_type": "code",
   "execution_count": 89,
   "id": "4270b7e9-65bd-4d0c-952f-7dd734ce201f",
   "metadata": {
    "scrolled": true
   },
   "outputs": [
    {
     "data": {
      "text/plain": [
       "{'video': [{'description': 'A montage of ASU football players making incredible catches, tackles, and touchdowns, set to a fast-paced, energetic beat. Use slow-motion replays and dramatic close-ups for maximum impact.',\n",
       "   'text_overlay': 'ASU Football:  The Future is Now! #ForksUp #SunDevilPride',\n",
       "   'voiceover': \"Get ready to witness the power and precision of Arizona State Football! From electrifying touchdowns to bone-crushing tackles, these Sun Devils are unstoppable.  Don't miss a moment of the action!\"},\n",
       "  {'description': \"A behind-the-scenes look at the ASU football team's pre-game rituals and locker room energy, showcasing the camaraderie and passion of the players.\",\n",
       "   'text_overlay': 'What makes ASU Football so special?  Find out in our exclusive locker room footage.',\n",
       "   'voiceover': \"Step inside the heart of Arizona State Football! Witness the team's unwavering spirit, their intense focus, and the camaraderie that fuels their victory.  This is the essence of Sun Devil Pride!\"},\n",
       "  {'description': 'A light-hearted, humorous video featuring ASU players reacting to funny memes and viral videos about football, showcasing their personalities off the field.',\n",
       "   'text_overlay': \"ASU Football:  Not just a game, it's a meme!  #SunDevilHumor #FootballFun\",\n",
       "   'voiceover': \"Ever wondered what your favorite ASU players are like when they're not on the field? Find out in this hilarious compilation of reactions to the funniest football memes and viral videos!  They're just like us...only better at football, of course!\"},\n",
       "  {'description': 'A fan-submitted video of a unique or creative ASU football-themed dance or cheer, encouraging viewers to participate by sharing their own videos.',\n",
       "   'text_overlay': 'Show us your best ASU Football dance moves!  Tag us in your video and use #SunDevilDance for a chance to be featured.',\n",
       "   'voiceover': \"Calling all Sun Devil fans! Unleash your inner cheerleader and show us your most creative ASU Football dance moves!  Tag us in your videos, use #SunDevilDance, and let's see who has the best moves in the stadium!\"},\n",
       "  {'description': 'A timelapse video showcasing the transformation of a stadium from an empty field to a roaring sea of fans on game day, with a focus on the excitement and energy of the crowd.',\n",
       "   'text_overlay': 'Get ready for kickoff!  The stadium is alive. #ASUFootball #GameDay',\n",
       "   'voiceover': 'From a silent field to a vibrant spectacle, witness the magic of ASU Football game day unfold! The energy is contagious, the atmosphere is electric, and the fans are ready to roar!  This is where dreams come true!'}],\n",
       " 'image': {'description': 'A striking image of the ASU football team in their uniforms, posing triumphantly on the field after a victory. The image should be visually captivating, with a strong sense of energy and teamwork.',\n",
       "  'text_overlay': 'ASU Football:  The Fight Never Stops! #ForksUp',\n",
       "  'voiceover': 'Behold the power of the Sun Devils! This team embodies strength, determination, and an unwavering pursuit of victory.  Their passion is contagious, their spirit unyielding, and their legacy etched in history!  Go Devils!'},\n",
       " 'meme': {'description': 'A meme featuring a popular image with relatable text overlay, comparing the intensity of ASU football fans to the dedication of other fanbases, using humor to highlight the Sun Devil pride.',\n",
       "  'text_overlay': 'Me:  Watching a boring game.\\nASU Football fan:  *already planning the victory parade* #SunDevilPride',\n",
       "  'voiceover': \"You're not a true fan until you've experienced the unwavering dedication of an ASU Football supporter!  They're the type who start planning the victory parade before the first whistle even blows.  It's a beautiful thing! #ForksUp\"},\n",
       " 'song': {'name': 'Roar', 'artist': 'Katy Perry'}}"
      ]
     },
     "execution_count": 89,
     "metadata": {},
     "output_type": "execute_result"
    }
   ],
   "source": [
    "response"
   ]
  },
  {
   "cell_type": "code",
   "execution_count": 94,
   "id": "83a38349-65c7-42d1-914f-133b3e66934d",
   "metadata": {},
   "outputs": [],
   "source": [
    "video_details = response['video']\n",
    "video_images = [media['description'] for media in video_details]\n",
    "video_texts = [media['text_overlay'] for media in video_details]\n",
    "video_audios = [media['voiceover'] for media in video_details]"
   ]
  },
  {
   "cell_type": "markdown",
   "id": "78c189df-057d-4d6a-a664-bba6e985e079",
   "metadata": {},
   "source": [
    "## Image Generation"
   ]
  },
  {
   "cell_type": "code",
   "execution_count": 51,
   "id": "9e0b352c-7e71-4e85-96f3-1ca0bd971e04",
   "metadata": {},
   "outputs": [],
   "source": [
    "POLLINATION_URI = 'https://pollinations.ai/p/{prompt}?width=1080&height=1920&seed=42&model=flux'"
   ]
  },
  {
   "cell_type": "code",
   "execution_count": 95,
   "id": "8e402041-e98c-4e03-8089-c24237b7c483",
   "metadata": {},
   "outputs": [
    {
     "data": {
      "text/plain": [
       "['A montage of ASU football players making incredible catches, tackles, and touchdowns, set to a fast-paced, energetic beat. Use slow-motion replays and dramatic close-ups for maximum impact.',\n",
       " \"A behind-the-scenes look at the ASU football team's pre-game rituals and locker room energy, showcasing the camaraderie and passion of the players.\",\n",
       " 'A light-hearted, humorous video featuring ASU players reacting to funny memes and viral videos about football, showcasing their personalities off the field.',\n",
       " 'A fan-submitted video of a unique or creative ASU football-themed dance or cheer, encouraging viewers to participate by sharing their own videos.',\n",
       " 'A timelapse video showcasing the transformation of a stadium from an empty field to a roaring sea of fans on game day, with a focus on the excitement and energy of the crowd.']"
      ]
     },
     "execution_count": 95,
     "metadata": {},
     "output_type": "execute_result"
    }
   ],
   "source": [
    "video_images"
   ]
  },
  {
   "cell_type": "code",
   "execution_count": 96,
   "id": "9b6ca047-8835-4261-af90-6c874de94073",
   "metadata": {},
   "outputs": [
    {
     "name": "stdout",
     "output_type": "stream",
     "text": [
      "028c6567-5763-4fbf-aedc-c7afacc0cacc\n",
      "258e7367-998a-4b61-acef-a85dbb1daecd\n",
      "ba4a569a-7049-4feb-a3aa-906eee1999cd\n",
      "b480bee3-0836-47df-bbd0-57e1a3adccc0\n",
      "884af224-c193-467b-b248-95c9198f2437\n"
     ]
    }
   ],
   "source": [
    "img_ids = []\n",
    "for img in video_images:\n",
    "    res_img = requests.get(POLLINATION_URI.format(prompt=img))\n",
    "    img_name = uuid4()\n",
    "    img_ids.append(img_name)\n",
    "    print(img_name)\n",
    "    with open(f'{img_name}.jpg', 'wb') as file:\n",
    "        file.write(res_img.content)\n",
    "    time.sleep(2)"
   ]
  },
  {
   "cell_type": "markdown",
   "id": "c5d45894-cc86-4f12-842e-44e6ebe4aaa0",
   "metadata": {},
   "source": [
    "## Audio Generation"
   ]
  },
  {
   "cell_type": "code",
   "execution_count": 110,
   "id": "ad282d1c-8af0-49e4-a025-a9a273c5c327",
   "metadata": {},
   "outputs": [
    {
     "name": "stdout",
     "output_type": "stream",
     "text": [
      "Collecting gTTS\n",
      "  Downloading gTTS-2.5.3-py3-none-any.whl (29 kB)\n",
      "Requirement already satisfied: click<8.2,>=7.1 in c:\\users\\shubh\\desktop\\codebase\\shorts-ai\\shorts\\lib\\site-packages (from gTTS) (8.1.7)\n",
      "Requirement already satisfied: requests<3,>=2.27 in c:\\users\\shubh\\desktop\\codebase\\shorts-ai\\shorts\\lib\\site-packages (from gTTS) (2.32.3)\n",
      "Requirement already satisfied: colorama in c:\\users\\shubh\\desktop\\codebase\\shorts-ai\\shorts\\lib\\site-packages (from click<8.2,>=7.1->gTTS) (0.4.6)\n",
      "Requirement already satisfied: idna<4,>=2.5 in c:\\users\\shubh\\desktop\\codebase\\shorts-ai\\shorts\\lib\\site-packages (from requests<3,>=2.27->gTTS) (3.10)\n",
      "Requirement already satisfied: certifi>=2017.4.17 in c:\\users\\shubh\\desktop\\codebase\\shorts-ai\\shorts\\lib\\site-packages (from requests<3,>=2.27->gTTS) (2024.8.30)\n",
      "Requirement already satisfied: charset-normalizer<4,>=2 in c:\\users\\shubh\\desktop\\codebase\\shorts-ai\\shorts\\lib\\site-packages (from requests<3,>=2.27->gTTS) (3.4.0)\n",
      "Requirement already satisfied: urllib3<3,>=1.21.1 in c:\\users\\shubh\\desktop\\codebase\\shorts-ai\\shorts\\lib\\site-packages (from requests<3,>=2.27->gTTS) (2.2.3)\n",
      "Installing collected packages: gTTS\n",
      "Successfully installed gTTS-2.5.3\n"
     ]
    },
    {
     "name": "stderr",
     "output_type": "stream",
     "text": [
      "\n",
      "[notice] A new release of pip available: 22.3.1 -> 24.2\n",
      "[notice] To update, run: python.exe -m pip install --upgrade pip\n"
     ]
    }
   ],
   "source": [
    "!pip install gTTS"
   ]
  },
  {
   "cell_type": "code",
   "execution_count": 111,
   "id": "8c0c47dd-57ed-42a9-959d-047d6d36c8c7",
   "metadata": {},
   "outputs": [],
   "source": [
    "from gtts import gTTS\n",
    "tts = gTTS('hello')\n",
    "tts.save('hello.mp3')"
   ]
  },
  {
   "cell_type": "code",
   "execution_count": 108,
   "id": "885fda01-e87a-4b89-b99e-bf9cd7841852",
   "metadata": {
    "scrolled": true
   },
   "outputs": [],
   "source": [
    "from pyt2s.services import stream_elements\n",
    "\n",
    "# Default Voice\n",
    "data = stream_elements.requestTTS('Lorem Ipsum is simply dummy text.')\n",
    "\n",
    "# Custom Voice\n",
    "# data = stream_elements.requestTTS('Lorem Ipsum is simply dummy text.', stream_elements.Voice.Russell.value)\n"
   ]
  },
  {
   "cell_type": "code",
   "execution_count": 109,
   "id": "ce5799f9-0929-4c36-a16a-8a57ed45e48c",
   "metadata": {},
   "outputs": [],
   "source": [
    "with open('output.mp3', '+wb') as file:\n",
    "    file.write(data)"
   ]
  }
 ],
 "metadata": {
  "kernelspec": {
   "display_name": "shorts",
   "language": "python",
   "name": "shorts"
  },
  "language_info": {
   "codemirror_mode": {
    "name": "ipython",
    "version": 3
   },
   "file_extension": ".py",
   "mimetype": "text/x-python",
   "name": "python",
   "nbconvert_exporter": "python",
   "pygments_lexer": "ipython3",
   "version": "3.10.9"
  }
 },
 "nbformat": 4,
 "nbformat_minor": 5
}
